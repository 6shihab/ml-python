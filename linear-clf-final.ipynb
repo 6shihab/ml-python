{
  "nbformat": 4,
  "nbformat_minor": 0,
  "metadata": {
    "accelerator": "GPU",
    "colab": {
      "name": "linear-clf.ipynb",
      "provenance": [],
      "collapsed_sections": [],
      "toc_visible": true
    },
    "kernelspec": {
      "display_name": "Python 3",
      "language": "python",
      "name": "python3"
    },
    "language_info": {
      "codemirror_mode": {
        "name": "ipython",
        "version": 3
      },
      "file_extension": ".py",
      "mimetype": "text/x-python",
      "name": "python",
      "nbconvert_exporter": "python",
      "pygments_lexer": "ipython3",
      "version": "3.6.3"
    }
  },
  "cells": [
    {
      "cell_type": "markdown",
      "metadata": {
        "colab_type": "text",
        "id": "ri6UiGU5T5aj"
      },
      "source": [
        "# **সাইকিট-লার্ন দিয়ে একটা সহজ লিনিয়ার ক্লাসিফিকেশন **\n",
        "\n",
        "চারটার জায়গায় দুটো ফিচার, তিনটার জায়গায় দুটো টার্গেট ভ্যারিয়েবল"
      ]
    },
    {
      "cell_type": "markdown",
      "metadata": {
        "colab_type": "text",
        "id": "3sKNXPKNBqwO"
      },
      "source": [
        "চারটার জায়গায় দুটো। প্রস্তাব - এটাকে দুটো দিয়ে দেখান না কেন? বুঝলাম - জিনিসটাকে আরো পানির মতো করতে হবে। আমাকে অনেকে বলেন, আইরিস ডেটাসেটে চারটা অ্যাট্রিবিউট। ফলে ডেটা ভিজ্যুয়ালাইজেশনে একটার ভেতরে আরেকটা চলে যায়। খালি চোখে ডেটার মধ্যে ফারাক বের করা তো দুস্কর। প্রস্তাবটা ভালো। এটা একটা বড় সমস্যাকে আরো রিফাইন করে আনবে আমাদের ভালোভাবে বুঝতে। \n",
        "\n",
        " সত্যি বলতে সেই আইডিয়াটা নিয়ে লিখেছেন বেশ কয়েকজন লেখক। তবে, এখানে আইডিয়াটা এলো আমার একটা প্রিয় বই থেকে, ২০১৩তে লেখা। লার্নিং সাইকিট-লার্ন:: মেশিন লার্নিং ইন পাইথন, রাউল গ্যারেটার। \"কী করবো সামনে?\" চ্যাপ্টারে দ্রষ্টব্য। \n",
        "\n",
        "আচ্ছা, তিনটা প্রজাতি না বের করে, একটা প্রজাতি বের করা যায় না? আরো, ভালো! তাহলে তো একটা প্রজাতি ভার্সেস ওই প্রজাতি নয়। মানে, প্রেডিক্ট করতে হবে - ধরুন, ফুলটা \"সেটোসা\" অথবা \"সেটোসা নয়\"! তাহলে তো জিনিসটা একদম পানি হয়ে যাবে। "
      ]
    },
    {
      "cell_type": "markdown",
      "metadata": {
        "colab_type": "text",
        "id": "gfRxmu0QT5a5"
      },
      "source": [
        "## লোড করে নেই আইরিস ডেটাসেট "
      ]
    },
    {
      "cell_type": "code",
      "metadata": {
        "colab_type": "code",
        "id": "c32_FG83T5a7",
        "colab": {}
      },
      "source": [
        "import sklearn\n",
        "from sklearn import datasets\n",
        "\n",
        "iris = datasets.load_iris()\n",
        "X_temp = iris.data\n",
        "y_temp = iris.target"
      ],
      "execution_count": 0,
      "outputs": []
    },
    {
      "cell_type": "markdown",
      "metadata": {
        "colab_type": "text",
        "id": "TrVDNHPBT5bL"
      },
      "source": [
        "### ভাগ করে ফেলি টেস্ট এবং ট্রেনিং ডেটাসেট (ফিচার স্কেলিং সহ)"
      ]
    },
    {
      "cell_type": "markdown",
      "metadata": {
        "colab_type": "text",
        "id": "zTvelXXOT5bM"
      },
      "source": [
        "এখানে আমাদের কাজ হচ্ছে ডেটাসেটকে দুভাগে ভাগ করে ফেলা। ৭৫% ব্যবহার হবে আমাদের ক্লাসিফায়ারকে ট্রেনিং করাতে। ২৫% যাবে ইভ্যালুয়েট করতে। ৪টা ফিচারের জায়গায় আমরা ব্যবহার করবো ২টা মাত্র। সিপাল দৈর্ঘ্য এবং প্রস্থ। শুধুমাত্র সিপাল অংশ। \n",
        "\n",
        "এর পাশাপাশি আমরা ফিচার স্কেলিং করবো আমাদের ফিচারগুলোর ডেটা রেঞ্জ স্ট্যান্ডার্ডাইজ করার জন্য। প্রতিটা ফিচারের জন্য এটা সব ভ্যালুকে গড় করে সেটাকে বিয়োগ দেয় ওই ফিচার ভ্যালু থেকে। এরপর তার উত্তরকে ভাগ দেয় সেটার স্ট্যান্ডার্ড ডেভিয়েশন দিয়ে।  আমাদের এই স্কেলিং এর পর প্রতিটা ফিচারের গড় হবে শূন্য। পাশাপাশি স্ট্যান্ডার্ড ডেভিয়েশন হচ্ছে ১। \n",
        "\n",
        "এর ফলে ভ্যালুগুলোর স্ট্যান্ডার্ডাইজেশন হয়ে আসে। এটা খানিকটা স্ট্যান্ডার্ড প্র্যাক্টিস হয়ে গেছে ইন্ডিপেন্ডেন্ট ফিচার/ভ্যারিয়েবলগুলোর রেঞ্জকে একটা স্কেলের মধ্যে নিয়ে আসা। এটাকে আমরা ডেটা নর্মালাইজেশন বলতে পারি। এটা আমরা করি ডেটা প্রি-প্রসেসিং এর সময়। \n",
        "\n",
        "ডেটার রেঞ্জ নিয়ে আমাদের যেহেতু কোন ফিল্টার নেই, সেকারণে একটা ডেটাসেটে বিক্ষিপ্ত ডেটা মেশিন লার্নিংকে বিপদে ফেলতে পারে। বড় বড় ভ্যালুগুলো ফাইনাল আউটকামে সমস্যা করে। আর সেকারণে মেশিন লার্নিং অ্যালগরিদমকে ভালোভাবে কাজ করানোর জন্য এই স্কেলিং দরকার পড়ে অনেক সময়। তবে, \"\"গ্রাডিয়েন্ট ডিসেন্ট\"\" কনভার্জেন্স ভালো কাজ করে স্কেলিং দিয়ে। মজার কথা হচ্ছে এক্স ভ্যালুগুলোকে প্লট করলে আগে এবং পরে একই জিনিস পাওয়া যায়। "
      ]
    },
    {
      "cell_type": "code",
      "metadata": {
        "colab_type": "code",
        "id": "RknPx8MPT5bN",
        "colab": {}
      },
      "source": [
        "from sklearn.model_selection import train_test_split\n",
        "from sklearn import preprocessing\n",
        "\n",
        "# শুধুমাত্র প্রথম দুটো অ্যাট্রিবিউট নিয়ে আমাদের ডেটাসেট \n",
        "X, y = X_temp[:, [0,1]], y_temp\n",
        "# আমাদের টেস্টসেট হবে ২৫%, দৈবচয়নের ভিত্তিতে \n",
        "X_train, X_test, y_train, y_test = train_test_split(X, y, test_size=0.25, random_state=33)\n",
        "    \n",
        "# ফিচারগুলোকে স্ট্যান্ডার্ডাইজ করছি এখানে \n",
        "scaler = preprocessing.StandardScaler().fit(X_train)\n",
        "X_train = scaler.transform(X_train)\n",
        "X_test = scaler.transform(X_test)"
      ],
      "execution_count": 0,
      "outputs": []
    },
    {
      "cell_type": "markdown",
      "metadata": {
        "colab_type": "text",
        "id": "IRRoCZxmT5bQ"
      },
      "source": [
        "চলুন, দেখি ফিচার স্কেলিং এর পর কি অবস্থা? এখানে গড় হচ্ছে \"০\", স্ট্যান্ডার্ড ডেভিয়েশন হচ্ছে \"১\"। ট্রেনিংসেটে ঠিকমতো হবে সবকিছু, তবে টেস্টসেটে ব্যাপারটা কাছাকাছি হবে। "
      ]
    },
    {
      "cell_type": "code",
      "metadata": {
        "colab_type": "code",
        "id": "Xon7VkoGT5bR",
        "outputId": "4360b78b-594d-45a6-ff15-d5ca8aa584a4",
        "colab": {
          "base_uri": "https://localhost:8080/",
          "height": 50
        }
      },
      "source": [
        "import numpy as np\n",
        "print ('Training set mean:{:.2f} and standard deviation:{:.2f}'.format(np.average(X_train),np.std(X_train)))\n",
        "print ('Testing set mean:{:.2f} and standard deviation:{:.2f}'.format(np.average(X_test),np.std(X_test)))\n"
      ],
      "execution_count": 3,
      "outputs": [
        {
          "output_type": "stream",
          "text": [
            "Training set mean:0.00 and standard deviation:1.00\n",
            "Testing set mean:0.13 and standard deviation:0.71\n"
          ],
          "name": "stdout"
        }
      ]
    },
    {
      "cell_type": "markdown",
      "metadata": {
        "colab_type": "text",
        "id": "jFf9lDTeT5bV"
      },
      "source": [
        "ফিচার স্কেলিং এর পর ট্রেনিং ডেটাকে প্লটিং করি। একই জিনিস। "
      ]
    },
    {
      "cell_type": "code",
      "metadata": {
        "colab_type": "code",
        "id": "DPCGNVefT5bW",
        "outputId": "e6a38ccb-24d6-42de-bcfa-2beceecc8b05",
        "colab": {
          "base_uri": "https://localhost:8080/",
          "height": 295
        }
      },
      "source": [
        "# প্লটিং লাইব্রেরি লোড করে নেই \n",
        "import matplotlib.pyplot as plt\n",
        "\n",
        "# তিন প্রজাতির তিনটা আলাদা রং, মার্কার সহ \n",
        "colour_mk = [ ['red','s'], ['green','o'], ['blue','x']]\n",
        "plt.figure('Training Data')\n",
        "\n",
        "# লুপে ফেলে দিলাম, x এবং y এক্সিসে  \n",
        "for i in range(len(colour_mk)):\n",
        "    xs = X_train[:, 0][y_train == i]\n",
        "    ys = X_train[:, 1][y_train == i]\n",
        "    plt.scatter(xs, ys, c=colour_mk[i][0], marker=colour_mk[i][1])\n",
        "\n",
        "# সাদা ব্যাকগ্রাউন্ড দরকার আমার, গুগল কোলাবে বাড়তি শেড দরকার নেই  \n",
        "# plt.rcParams['axes.facecolor'] = 'white'\n",
        "plt.style.use('default')\n",
        "plt.grid(c='grey')\n",
        "\n",
        "# প্লটিং প্যারামিটার \n",
        "plt.title('Training instances, after scaling')\n",
        "plt.legend(iris.target_names)\n",
        "plt.xlabel('Sepal length')\n",
        "plt.ylabel('Sepal width')\n",
        "plt.show()\n"
      ],
      "execution_count": 4,
      "outputs": [
        {
          "output_type": "display_data",
          "data": {
            "image/png": "[encoded data removed]",
            "text/plain": [
              "<Figure size 432x288 with 1 Axes>"
            ]
          },
          "metadata": {
            "tags": [],
            "needs_background": "light"
          }
        }
      ]
    },
    {
      "cell_type": "markdown",
      "metadata": {
        "colab_type": "text",
        "id": "-fYy0VkkT5bb"
      },
      "source": [
        "### একটা লিনিয়ার বাইনারি ক্লাসিফিকেশন "
      ]
    },
    {
      "cell_type": "markdown",
      "metadata": {
        "colab_type": "text",
        "id": "pfEKD6K5T5bc"
      },
      "source": [
        "মানুষের মাথা প্যাটার্ন বুঝতে ওস্তাদ। এই প্লট থেকে কী বুঝতে পারছেন? ঠিক ধরেছেন। খালি চোখে সেটোসা প্রজাতিকে বোঝা যাচ্ছে একদম আলাদা করে। কেমন হয়, কমপ্লেক্সিটি এড়াতে আমরা যদি বের করতে চাই শুধুমাত্র সেটোসা প্রজাতি বের করতে চাই। মানে, প্রেডিক্ট করতে হবে হয় \"সেটোসা\" অথবা \"সেটোসা না\"? এখন আমাদের দুটো টার্গেট ভ্যারিয়েবল। সেকারণে এটাকে আমরা কনভার্ট করছি বাইনারি ক্লাসিফিকেশন টাস্কে। আমাদের দুটো টার্গেট। হয় \"০\" অথবা \"১\", তাহলে কী করতে হবে? \"১\" নম্বর এবং \"২\" নম্বর ক্লাসকে আমরা \"১\" বানিয়ে ফেলেছি। \n",
        "\n"
      ]
    },
    {
      "cell_type": "code",
      "metadata": {
        "colab_type": "code",
        "id": "yLoZKBnCT5bd",
        "outputId": "86ec358c-2e25-4854-ee90-ed7a7b6254ab",
        "colab": {
          "base_uri": "https://localhost:8080/",
          "height": 101
        }
      },
      "source": [
        "import copy \n",
        "y_train_setosa = copy.copy(y_train) \n",
        "# আমাদের ট্রেনিংসেটের ১ এবং ২ ক্লাসকে ১ বানিয়ে ফেলছি \n",
        "y_train_setosa[y_train_setosa > 0]=1\n",
        "y_test_setosa = copy.copy(y_test)\n",
        "y_test_setosa[y_test_setosa > 0]=1\n",
        "# এখন দেখি ট্রেনিং টার্গেট ক্লাসগুলো কী কী?\n",
        "print ('New training target classes:\\n{0}'.format(y_train_setosa))\n"
      ],
      "execution_count": 5,
      "outputs": [
        {
          "output_type": "stream",
          "text": [
            "New training target classes:\n",
            "[1 0 1 1 1 0 0 1 0 1 0 0 1 1 0 1 1 1 1 1 0 0 1 0 0 1 1 1 1 1 1 1 0 0 1 1 0\n",
            " 1 1 1 1 0 1 0 1 0 1 1 0 1 1 0 0 1 0 0 0 1 1 0 1 0 1 0 1 1 1 1 1 0 1 0 1 1\n",
            " 0 0 0 0 1 1 0 1 1 1 1 0 0 1 1 1 0 1 1 0 1 1 1 1 1 0 1 0 0 0 1 1 1 1 1 1 1\n",
            " 0]\n"
          ],
          "name": "stdout"
        }
      ]
    },
    {
      "cell_type": "markdown",
      "metadata": {
        "colab_type": "text",
        "id": "mj_02w5mT5bi"
      },
      "source": [
        "ছবিটা দেখে কী মনে হচ্ছে? একটা প্রজাতি একেবারে আলাদা। এটা আমাদের জন্য ভালো। \n",
        "\n",
        "আমরা যদি ভালোমতো করে ছবিটা দেখি - তাহলে \"সেটোসা\" প্রজাতিতে আমরা একেবারে আলাদা হাইপারপ্লেন এ দেখতে পাচ্ছি। অর্থাৎ একটা লাইন টেনে দুটো প্রজাতিকে আলাদা করতে পারছি। ব্যাপারটা কমন মেশিন লার্নিং কনসেপ্টে। আমাদের প্রশ্ন হচ্ছে নতুন মাপজোক দিলে সেটা থেকে বের করতে হবে নতুন জিনিসটা কোন প্রজাতির? এখন বাকি প্রজাতিগুলো যেহেতু একটা আরেকটার ভেতরে ঢুকে গেছে, সেকারনে ওই দুটোকে একটা প্রজাতি হিসেবে দেখাচ্ছি। \n",
        "\n",
        "যেহেতু, আমরা \"সেটোসা\"কে একেবারে একটা লাইন টেনে আলাদা করতে পারছি, সেকারণে এই জিনিসটাকে একটা লিনিয়ার ক্লাসিফিকেশন মডেলে পাঠাতে পারি। মানে, একটা সোজা লাইন টেনে দুটো টার্গেট ক্লাসকে আলাদা করবো এখানে। এটাকে আমরা বলতে পারি ফিচার স্পেসে একটা হাইপারপ্লেন। দুটো ফিচার স্পেসের মধ্যে লাইনটা ডিসিশন বাউন্ডারি। কে কোন প্রজাতির, সেটা নির্ভর করবে কে ওই লাইনটার কোন দিকে আছে। \n",
        "\n",
        "মনে আছে, আমাদের ওই এরর কমানোর কথা? লিস্ট স্কয়ার রিগ্রেশন, লস ফাংশন? যেটা আসলে বের করে আমাদের প্রতিটা ইনস্ট্যান্স থেকে ডিসিশন বাউন্ডারি কতো দুরে। এখানে আমাদের এই অ্যালগরিদম হাইপারপ্লেনের \"কোএফিসিয়েন্ট\" জানবে লসকে কমিয়ে। এখানে আমরা ইন্টারসেপ্টও জানবো সামনে। \n",
        "\n",
        "এ কারণে আমরা সাইকিট লার্ন থেকে `SGDClassifier` ব্যবহার করবো এই লিনিয়ার মডেল তৈরি করতে। আমাদের সাইকিট লার্নে \"SGDClassifier\" মডেল হিসেবে থাকলেও এটা আসলে ক্লাসিফায়ার নয়। বরং এটা একটা লিনিয়ার তবে এটাকে অপ্টিমাইজড করা হয়েছে স্টোকাস্টিক গ্র্যাডিয়েন্ট ডিসেন্ট দিয়ে। \n"
      ]
    },
    {
      "cell_type": "markdown",
      "metadata": {
        "colab_type": "text",
        "id": "5KCIy6waT5bm"
      },
      "source": [
        "এই কাজ আমরা আগেও করেছি। \"linear_model\" কে ইম্পোর্ট করে নিয়ে আসছি sklearn থেকে। একটা ক্লাসিফায়ারের ইনস্ট্যান্স তৈরি করে হাইপারপ্যারামিটারকে বলছি \"লগ\" লস ফাংশন ব্যবহার করতে। এখানে ক্লাসিফায়ার হচ্ছে \"linear_model.SGDClassifier\"। এমুহুর্তে ব্যবহার করবো সব ডিফল্ট ভ্যালু। বেশি ঝামেলায় যাবো না। \n",
        "\n"
      ]
    },
    {
      "cell_type": "code",
      "metadata": {
        "colab_type": "code",
        "id": "0jrNibUVT5bo",
        "colab": {}
      },
      "source": [
        "from sklearn import linear_model \n",
        "clf = linear_model.SGDClassifier(loss='log', random_state=42)"
      ],
      "execution_count": 0,
      "outputs": []
    },
    {
      "cell_type": "markdown",
      "metadata": {
        "colab_type": "text",
        "id": "djVcNsMYT5bv"
      },
      "source": [
        "এখন কি বাকি? ট্রেনিং করানো। ফিট মেথড কল করছি আমাদের ক্লাসিফায়ারকে ট্রেনিং করানোর জন্য। এখানে আমাদের ট্রেনিং ডেটা হচ্ছে \"সেটোসা\" সেট। \n"
      ]
    },
    {
      "cell_type": "code",
      "metadata": {
        "colab_type": "code",
        "id": "h9Tf4RvNT5bx",
        "outputId": "72955eef-2f79-4559-b63f-615dff2631d7",
        "colab": {
          "base_uri": "https://localhost:8080/",
          "height": 118
        }
      },
      "source": [
        "clf.fit(X_train, y_train_setosa)"
      ],
      "execution_count": 7,
      "outputs": [
        {
          "output_type": "execute_result",
          "data": {
            "text/plain": [
              "SGDClassifier(alpha=0.0001, average=False, class_weight=None,\n",
              "              early_stopping=False, epsilon=0.1, eta0=0.0, fit_intercept=True,\n",
              "              l1_ratio=0.15, learning_rate='optimal', loss='log', max_iter=1000,\n",
              "              n_iter_no_change=5, n_jobs=None, penalty='l2', power_t=0.5,\n",
              "              random_state=42, shuffle=True, tol=0.001, validation_fraction=0.1,\n",
              "              verbose=0, warm_start=False)"
            ]
          },
          "metadata": {
            "tags": []
          },
          "execution_count": 7
        }
      ]
    },
    {
      "cell_type": "markdown",
      "metadata": {
        "colab_type": "text",
        "id": "dVVYycW3T5b0"
      },
      "source": [
        "লিনিয়ার মডেল। মনে আছে \"y = mx + b\" এর কথা? নাহ, অংক পিছু ছাড়ছেই না, আমাদেরকে m এবং b পেতে হবে। মানে, clf.coef_ এবং clf.intercept_ ছাড়া আমাদের গতি নেই। \n",
        "\n",
        "\n",
        "এখন এই সমীকরণকে y = mx + b ধারণায় লিখলে কেমন দেখা যাবে?"
      ]
    },
    {
      "cell_type": "code",
      "metadata": {
        "colab_type": "code",
        "id": "94ScDMvbT5b1",
        "outputId": "69113839-27b4-4672-cb95-b3922cf85c8d",
        "colab": {
          "base_uri": "https://localhost:8080/",
          "height": 34
        }
      },
      "source": [
        "print (clf.coef_,clf.intercept_)\n"
      ],
      "execution_count": 8,
      "outputs": [
        {
          "output_type": "stream",
          "text": [
            "[[ 21.76180378 -10.51985219]] [13.90763026]\n"
          ],
          "name": "stdout"
        }
      ]
    },
    {
      "cell_type": "markdown",
      "metadata": {
        "colab_type": "text",
        "id": "bg1L0kSLT5b5"
      },
      "source": [
        "এখন তো ডিসিশন বাউন্ডারি আঁকাই যায়, কি বলুন? কোড দিলাম না ইচ্ছে করে। মেইন লিংকে পাওয়া যাবে। \n",
        "\n",
        "<img src=\"https://github.com/raqueeb/ml-python/blob/master/assets/line.png?raw=1\">"
      ]
    },
    {
      "cell_type": "markdown",
      "metadata": {
        "id": "OhODP9vIRYxk",
        "colab_type": "text"
      },
      "source": [
        "## এখানে কোড\n",
        "\n",
        "ধন্যবাদ \"A Gentle Introduction to Machine Learning with Python and Scikit-learn\" বইটাকে। ষষ্ঠ অধ্যায় দেখুন।"
      ]
    },
    {
      "cell_type": "code",
      "metadata": {
        "id": "5_JvEW9JReec",
        "colab_type": "code",
        "colab": {
          "base_uri": "https://localhost:8080/",
          "height": 472
        },
        "outputId": "7e3654ab-1842-468b-b8e2-38deacff53d4"
      },
      "source": [
        "x_min, x_max = X_train[:, 0].min() - .5, X_train[:, 0].max() + .5\n",
        "y_min, y_max = X_train[:, 1].min() - .5, X_train[:, 1].max() + .5\n",
        "xs = np.arange(x_min, x_max, 0.5)\n",
        "\n",
        "fig,axes = plt.subplots()\n",
        "\n",
        "axes.set_aspect('equal')\n",
        "axes.set_title('Setosa species classification')\n",
        "axes.set_xlabel('Sepal length')\n",
        "axes.set_ylabel('Sepal width')\n",
        "axes.set_xlim(x_min, x_max)\n",
        "axes.set_ylim(y_min, y_max)\n",
        "\n",
        "plt.sca(axes)\n",
        "\n",
        "plt.scatter(X_train[:, 0][y_train == 0], X_train[:, 1][y_train == 0], c='red', marker='s')\n",
        "plt.scatter(X_train[:, 0][y_train == 1], X_train[:, 1][y_train == 1], c='black', marker='x')\n",
        "\n",
        "ys = (-clf.intercept_[0]- xs * clf.coef_[0, 0]) / clf.coef_[0, 1]\n",
        "\n",
        "plt.plot(xs, ys)\n",
        "plt.show()"
      ],
      "execution_count": 9,
      "outputs": [
        {
          "output_type": "display_data",
          "data": {
            "image/png": "[encoded data removed]",
            "text/plain": [
              "<Figure size 640x480 with 1 Axes>"
            ]
          },
          "metadata": {
            "tags": []
          }
        }
      ]
    },
    {
      "cell_type": "markdown",
      "metadata": {
        "colab_type": "text",
        "id": "ViC_b6UrT5b-"
      },
      "source": [
        "ঠিক ধরেছেন। এই নীল/কালো রেখাটাই হচ্ছে আমাদের ডিসিশন বাউন্ডারি। প্রতিবার ৩০.০৭ x \"সিপাল দৈর্ঘ্য\" - ১৭.৭৮ x \"সিপাল প্রস্থ্য\" - ১৭.৩১ এর আউটপুট যখন শূন্য থেকে বড় হবে তখন সেটা হবে আইরিস সেটোসা, মানে ক্লাস ০। \n",
        "\n",
        "চলুন, একটা প্রেডিক্ট করি। ফুলটা কি সেটোসা কি না? যদি একটা ফুলের পেটাল প্রস্থ্য ৪.৬ এবং পেটাল দৈর্ঘ্য ৩.২ হয়, তাহলে প্রজাতিটা কি সেটোসা হবে কি হবে না? "
      ]
    },
    {
      "cell_type": "code",
      "metadata": {
        "colab_type": "code",
        "id": "J3_a65KZ8Si6",
        "outputId": "28cb828a-748c-40ef-9cf5-efb923eeb34a",
        "colab": {
          "base_uri": "https://localhost:8080/",
          "height": 34
        }
      },
      "source": [
        "print ('If the flower has 4.6 petal width and 3.2 petal length is a {}'.format(\n",
        "        iris.target_names[clf.predict(scaler.transform([[4.6, 3.2]]))]))"
      ],
      "execution_count": 10,
      "outputs": [
        {
          "output_type": "stream",
          "text": [
            "If the flower has 4.6 petal width and 3.2 petal length is a ['setosa']\n"
          ],
          "name": "stdout"
        }
      ]
    },
    {
      "cell_type": "markdown",
      "metadata": {
        "colab_type": "text",
        "id": "gVKeWGJq9gZ4"
      },
      "source": [
        "উত্তর: সেটোসা!"
      ]
    }
  ]
}